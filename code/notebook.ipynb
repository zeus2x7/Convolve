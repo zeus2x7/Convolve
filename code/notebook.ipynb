{
  "cells": [
    {
      "cell_type": "code",
      "execution_count": null,
      "id": "71e94a29-833d-4723-94e3-ea8199605035",
      "metadata": {
        "id": "71e94a29-833d-4723-94e3-ea8199605035"
      },
      "outputs": [],
      "source": [
        "import pandas as pd\n",
        "import json\n",
        "import numpy as np\n",
        "import csv\n",
        "import tensorflow as tf\n",
        "import matplotlib.pyplot as plt\n",
        "from sklearn.model_selection import train_test_split\n",
        "from keras import metrics"
      ]
    },
    {
      "cell_type": "code",
      "source": [
        "from google.colab import drive\n",
        "drive.mount('/content/drive')"
      ],
      "metadata": {
        "colab": {
          "base_uri": "https://localhost:8080/"
        },
        "id": "mUSG2J5we60i",
        "outputId": "52f3b362-b22a-45c0-ed16-0852e683edd8"
      },
      "id": "mUSG2J5we60i",
      "execution_count": null,
      "outputs": [
        {
          "output_type": "stream",
          "name": "stdout",
          "text": [
            "Mounted at /content/drive\n"
          ]
        }
      ]
    },
    {
      "cell_type": "code",
      "execution_count": null,
      "id": "2b8ce750-f7c7-4573-9665-2759b3bc648d",
      "metadata": {
        "id": "2b8ce750-f7c7-4573-9665-2759b3bc648d"
      },
      "outputs": [],
      "source": [
        "from tensorflow.keras.preprocessing.text import Tokenizer\n",
        "from tensorflow.keras.preprocessing.sequence import pad_sequences\n",
        "from tensorflow.keras.layers import Dense,InputLayer,GlobalMaxPooling1D\n",
        "from tensorflow.keras.layers import LSTM ,GRU ,SimpleRNN ,Embedding ,Dropout\n",
        "from tensorflow.keras.models import Model\n",
        "from tensorflow.keras.losses import SparseCategoricalCrossentropy"
      ]
    },
    {
      "cell_type": "code",
      "execution_count": null,
      "id": "17eb83a5-554d-4867-9ea3-8d98aad81923",
      "metadata": {
        "id": "17eb83a5-554d-4867-9ea3-8d98aad81923"
      },
      "outputs": [],
      "source": [
        "data =  pd.read_csv('/content/drive/MyDrive/conv/lodale.csv')"
      ]
    },
    {
      "cell_type": "code",
      "execution_count": null,
      "id": "e1079e5c-2c78-447f-a99a-da2f2244c1e7",
      "metadata": {
        "colab": {
          "base_uri": "https://localhost:8080/",
          "height": 424
        },
        "id": "e1079e5c-2c78-447f-a99a-da2f2244c1e7",
        "outputId": "dd3d5f29-b3d9-46df-9117-789dc5b5bfa6"
      },
      "outputs": [
        {
          "output_type": "execute_result",
          "data": {
            "text/plain": [
              "         Unnamed: 0                                                log  error\n",
              "0                 0   RAS KERNEL INFO instruction cache parity erro...      1\n",
              "1                 1   RAS KERNEL INFO instruction cache parity erro...      1\n",
              "2                 2   RAS KERNEL INFO instruction cache parity erro...      1\n",
              "3                 3   RAS KERNEL INFO instruction cache parity erro...      1\n",
              "4                 4   RAS KERNEL INFO instruction cache parity erro...      1\n",
              "...             ...                                                ...    ...\n",
              "4152654     4152654          RAS KERNEL FATAL data TLB error interrupt      0\n",
              "4152655     4152655          RAS KERNEL FATAL data TLB error interrupt      0\n",
              "4152656     4152656          RAS KERNEL FATAL data TLB error interrupt      0\n",
              "4152657     4152657          RAS KERNEL FATAL data TLB error interrupt      0\n",
              "4152658     4152658          RAS KERNEL FATAL data TLB error interrupt      0\n",
              "\n",
              "[4152659 rows x 3 columns]"
            ],
            "text/html": [
              "\n",
              "  <div id=\"df-38a8377e-9add-43a9-91af-d56a7fae0b0d\">\n",
              "    <div class=\"colab-df-container\">\n",
              "      <div>\n",
              "<style scoped>\n",
              "    .dataframe tbody tr th:only-of-type {\n",
              "        vertical-align: middle;\n",
              "    }\n",
              "\n",
              "    .dataframe tbody tr th {\n",
              "        vertical-align: top;\n",
              "    }\n",
              "\n",
              "    .dataframe thead th {\n",
              "        text-align: right;\n",
              "    }\n",
              "</style>\n",
              "<table border=\"1\" class=\"dataframe\">\n",
              "  <thead>\n",
              "    <tr style=\"text-align: right;\">\n",
              "      <th></th>\n",
              "      <th>Unnamed: 0</th>\n",
              "      <th>log</th>\n",
              "      <th>error</th>\n",
              "    </tr>\n",
              "  </thead>\n",
              "  <tbody>\n",
              "    <tr>\n",
              "      <th>0</th>\n",
              "      <td>0</td>\n",
              "      <td>RAS KERNEL INFO instruction cache parity erro...</td>\n",
              "      <td>1</td>\n",
              "    </tr>\n",
              "    <tr>\n",
              "      <th>1</th>\n",
              "      <td>1</td>\n",
              "      <td>RAS KERNEL INFO instruction cache parity erro...</td>\n",
              "      <td>1</td>\n",
              "    </tr>\n",
              "    <tr>\n",
              "      <th>2</th>\n",
              "      <td>2</td>\n",
              "      <td>RAS KERNEL INFO instruction cache parity erro...</td>\n",
              "      <td>1</td>\n",
              "    </tr>\n",
              "    <tr>\n",
              "      <th>3</th>\n",
              "      <td>3</td>\n",
              "      <td>RAS KERNEL INFO instruction cache parity erro...</td>\n",
              "      <td>1</td>\n",
              "    </tr>\n",
              "    <tr>\n",
              "      <th>4</th>\n",
              "      <td>4</td>\n",
              "      <td>RAS KERNEL INFO instruction cache parity erro...</td>\n",
              "      <td>1</td>\n",
              "    </tr>\n",
              "    <tr>\n",
              "      <th>...</th>\n",
              "      <td>...</td>\n",
              "      <td>...</td>\n",
              "      <td>...</td>\n",
              "    </tr>\n",
              "    <tr>\n",
              "      <th>4152654</th>\n",
              "      <td>4152654</td>\n",
              "      <td>RAS KERNEL FATAL data TLB error interrupt</td>\n",
              "      <td>0</td>\n",
              "    </tr>\n",
              "    <tr>\n",
              "      <th>4152655</th>\n",
              "      <td>4152655</td>\n",
              "      <td>RAS KERNEL FATAL data TLB error interrupt</td>\n",
              "      <td>0</td>\n",
              "    </tr>\n",
              "    <tr>\n",
              "      <th>4152656</th>\n",
              "      <td>4152656</td>\n",
              "      <td>RAS KERNEL FATAL data TLB error interrupt</td>\n",
              "      <td>0</td>\n",
              "    </tr>\n",
              "    <tr>\n",
              "      <th>4152657</th>\n",
              "      <td>4152657</td>\n",
              "      <td>RAS KERNEL FATAL data TLB error interrupt</td>\n",
              "      <td>0</td>\n",
              "    </tr>\n",
              "    <tr>\n",
              "      <th>4152658</th>\n",
              "      <td>4152658</td>\n",
              "      <td>RAS KERNEL FATAL data TLB error interrupt</td>\n",
              "      <td>0</td>\n",
              "    </tr>\n",
              "  </tbody>\n",
              "</table>\n",
              "<p>4152659 rows × 3 columns</p>\n",
              "</div>\n",
              "      <button class=\"colab-df-convert\" onclick=\"convertToInteractive('df-38a8377e-9add-43a9-91af-d56a7fae0b0d')\"\n",
              "              title=\"Convert this dataframe to an interactive table.\"\n",
              "              style=\"display:none;\">\n",
              "        \n",
              "  <svg xmlns=\"http://www.w3.org/2000/svg\" height=\"24px\"viewBox=\"0 0 24 24\"\n",
              "       width=\"24px\">\n",
              "    <path d=\"M0 0h24v24H0V0z\" fill=\"none\"/>\n",
              "    <path d=\"M18.56 5.44l.94 2.06.94-2.06 2.06-.94-2.06-.94-.94-2.06-.94 2.06-2.06.94zm-11 1L8.5 8.5l.94-2.06 2.06-.94-2.06-.94L8.5 2.5l-.94 2.06-2.06.94zm10 10l.94 2.06.94-2.06 2.06-.94-2.06-.94-.94-2.06-.94 2.06-2.06.94z\"/><path d=\"M17.41 7.96l-1.37-1.37c-.4-.4-.92-.59-1.43-.59-.52 0-1.04.2-1.43.59L10.3 9.45l-7.72 7.72c-.78.78-.78 2.05 0 2.83L4 21.41c.39.39.9.59 1.41.59.51 0 1.02-.2 1.41-.59l7.78-7.78 2.81-2.81c.8-.78.8-2.07 0-2.86zM5.41 20L4 18.59l7.72-7.72 1.47 1.35L5.41 20z\"/>\n",
              "  </svg>\n",
              "      </button>\n",
              "      \n",
              "  <style>\n",
              "    .colab-df-container {\n",
              "      display:flex;\n",
              "      flex-wrap:wrap;\n",
              "      gap: 12px;\n",
              "    }\n",
              "\n",
              "    .colab-df-convert {\n",
              "      background-color: #E8F0FE;\n",
              "      border: none;\n",
              "      border-radius: 50%;\n",
              "      cursor: pointer;\n",
              "      display: none;\n",
              "      fill: #1967D2;\n",
              "      height: 32px;\n",
              "      padding: 0 0 0 0;\n",
              "      width: 32px;\n",
              "    }\n",
              "\n",
              "    .colab-df-convert:hover {\n",
              "      background-color: #E2EBFA;\n",
              "      box-shadow: 0px 1px 2px rgba(60, 64, 67, 0.3), 0px 1px 3px 1px rgba(60, 64, 67, 0.15);\n",
              "      fill: #174EA6;\n",
              "    }\n",
              "\n",
              "    [theme=dark] .colab-df-convert {\n",
              "      background-color: #3B4455;\n",
              "      fill: #D2E3FC;\n",
              "    }\n",
              "\n",
              "    [theme=dark] .colab-df-convert:hover {\n",
              "      background-color: #434B5C;\n",
              "      box-shadow: 0px 1px 3px 1px rgba(0, 0, 0, 0.15);\n",
              "      filter: drop-shadow(0px 1px 2px rgba(0, 0, 0, 0.3));\n",
              "      fill: #FFFFFF;\n",
              "    }\n",
              "  </style>\n",
              "\n",
              "      <script>\n",
              "        const buttonEl =\n",
              "          document.querySelector('#df-38a8377e-9add-43a9-91af-d56a7fae0b0d button.colab-df-convert');\n",
              "        buttonEl.style.display =\n",
              "          google.colab.kernel.accessAllowed ? 'block' : 'none';\n",
              "\n",
              "        async function convertToInteractive(key) {\n",
              "          const element = document.querySelector('#df-38a8377e-9add-43a9-91af-d56a7fae0b0d');\n",
              "          const dataTable =\n",
              "            await google.colab.kernel.invokeFunction('convertToInteractive',\n",
              "                                                     [key], {});\n",
              "          if (!dataTable) return;\n",
              "\n",
              "          const docLinkHtml = 'Like what you see? Visit the ' +\n",
              "            '<a target=\"_blank\" href=https://colab.research.google.com/notebooks/data_table.ipynb>data table notebook</a>'\n",
              "            + ' to learn more about interactive tables.';\n",
              "          element.innerHTML = '';\n",
              "          dataTable['output_type'] = 'display_data';\n",
              "          await google.colab.output.renderOutput(dataTable, element);\n",
              "          const docLink = document.createElement('div');\n",
              "          docLink.innerHTML = docLinkHtml;\n",
              "          element.appendChild(docLink);\n",
              "        }\n",
              "      </script>\n",
              "    </div>\n",
              "  </div>\n",
              "  "
            ]
          },
          "metadata": {},
          "execution_count": 6
        }
      ],
      "source": [
        "data"
      ]
    },
    {
      "cell_type": "code",
      "execution_count": null,
      "id": "5d0e7325-08ce-477d-b16c-e87d52e8fac2",
      "metadata": {
        "id": "5d0e7325-08ce-477d-b16c-e87d52e8fac2"
      },
      "outputs": [],
      "source": [
        "data = data.drop('Unnamed: 0',axis=1)"
      ]
    },
    {
      "cell_type": "code",
      "execution_count": null,
      "id": "7f699609-aea1-43eb-ae65-b8d0eb5cdc84",
      "metadata": {
        "colab": {
          "base_uri": "https://localhost:8080/"
        },
        "id": "7f699609-aea1-43eb-ae65-b8d0eb5cdc84",
        "outputId": "caa7366f-df7a-43f3-953b-07ea4c6c2ffe"
      },
      "outputs": [
        {
          "output_type": "execute_result",
          "data": {
            "text/plain": [
              "2171"
            ]
          },
          "metadata": {},
          "execution_count": 8
        }
      ],
      "source": [
        "len(data[data['error']==0]['log'].unique())"
      ]
    },
    {
      "cell_type": "code",
      "execution_count": null,
      "id": "822d46c0-9252-4829-8bde-8bfe70bc517d",
      "metadata": {
        "id": "822d46c0-9252-4829-8bde-8bfe70bc517d"
      },
      "outputs": [],
      "source": [
        "\n",
        "total_normal_log = data[data['error']==1]['log'].unique()"
      ]
    },
    {
      "cell_type": "code",
      "execution_count": null,
      "id": "96e55c98-292a-4cab-9746-9e05a680d122",
      "metadata": {
        "id": "96e55c98-292a-4cab-9746-9e05a680d122"
      },
      "outputs": [],
      "source": [
        "total_abnormal_log =data[data['error']==0]['log']"
      ]
    },
    {
      "cell_type": "code",
      "execution_count": null,
      "id": "2573847e-deb4-4a7b-a03a-109b4f41dfa6",
      "metadata": {
        "id": "2573847e-deb4-4a7b-a03a-109b4f41dfa6"
      },
      "outputs": [],
      "source": [
        "total_log =np.append( total_normal_log,total_abnormal_log)"
      ]
    },
    {
      "cell_type": "code",
      "execution_count": null,
      "id": "4ed2b215-a19c-472b-8b96-f783bdced678",
      "metadata": {
        "id": "4ed2b215-a19c-472b-8b96-f783bdced678"
      },
      "outputs": [],
      "source": [
        "total_error = np.append(np.ones((len(total_normal_log), 1)), np.zeros((len(total_abnormal_log), 1)), axis=0)"
      ]
    },
    {
      "cell_type": "code",
      "execution_count": null,
      "id": "1385fce7-8021-4ba3-8103-6574c00c955f",
      "metadata": {
        "id": "1385fce7-8021-4ba3-8103-6574c00c955f"
      },
      "outputs": [],
      "source": [
        "df = pd.DataFrame({'log': total_log, 'error': list(total_error)}, columns = ['log','error'])"
      ]
    },
    {
      "cell_type": "code",
      "execution_count": null,
      "id": "e8ef4d58-f48c-43ef-a66b-fff1ffc02f1e",
      "metadata": {
        "id": "e8ef4d58-f48c-43ef-a66b-fff1ffc02f1e"
      },
      "outputs": [],
      "source": [
        "df_train ,df_test  = train_test_split(df , test_size = 0.2,stratify=df['error'])"
      ]
    },
    {
      "cell_type": "code",
      "source": [
        "df_val ,df_test  = train_test_split(df_test , test_size = 0.5)"
      ],
      "metadata": {
        "id": "rPrAweGlgs_9"
      },
      "id": "rPrAweGlgs_9",
      "execution_count": null,
      "outputs": []
    },
    {
      "cell_type": "code",
      "execution_count": null,
      "id": "bf1d1c5f-65e6-44c8-ae72-6466d4bc46ad",
      "metadata": {
        "colab": {
          "base_uri": "https://localhost:8080/"
        },
        "id": "bf1d1c5f-65e6-44c8-ae72-6466d4bc46ad",
        "outputId": "8f6ded1b-71b3-4bfc-8c70-c5bd28a46766"
      },
      "outputs": [
        {
          "output_type": "stream",
          "name": "stderr",
          "text": [
            "<ipython-input-23-418f90747feb>:1: DeprecationWarning: `np.int` is a deprecated alias for the builtin `int`. To silence this warning, use `int` by itself. Doing this will not modify any behavior and is safe. When replacing `np.int`, you may wish to use e.g. `np.int64` or `np.int32` to specify the precision. If you wish to review your current use, check the release note link for additional information.\n",
            "Deprecated in NumPy 1.20; for more details and guidance: https://numpy.org/devdocs/release/1.20.0-notes.html#deprecations\n",
            "  train_np = np.array(df_train['error']).astype(np.int)\n",
            "<ipython-input-23-418f90747feb>:2: DeprecationWarning: `np.int` is a deprecated alias for the builtin `int`. To silence this warning, use `int` by itself. Doing this will not modify any behavior and is safe. When replacing `np.int`, you may wish to use e.g. `np.int64` or `np.int32` to specify the precision. If you wish to review your current use, check the release note link for additional information.\n",
            "Deprecated in NumPy 1.20; for more details and guidance: https://numpy.org/devdocs/release/1.20.0-notes.html#deprecations\n",
            "  test_np = np.array( df_test['error']).astype(np.int)\n",
            "<ipython-input-23-418f90747feb>:5: DeprecationWarning: `np.int` is a deprecated alias for the builtin `int`. To silence this warning, use `int` by itself. Doing this will not modify any behavior and is safe. When replacing `np.int`, you may wish to use e.g. `np.int64` or `np.int32` to specify the precision. If you wish to review your current use, check the release note link for additional information.\n",
            "Deprecated in NumPy 1.20; for more details and guidance: https://numpy.org/devdocs/release/1.20.0-notes.html#deprecations\n",
            "  val_np = np.array( df_val['error']).astype(np.int)\n"
          ]
        }
      ],
      "source": [
        "train_np = np.array(df_train['error']).astype(np.int)\n",
        "test_np = np.array( df_test['error']).astype(np.int)\n",
        "train_np = tf.convert_to_tensor(train_np)\n",
        "test_np = tf.convert_to_tensor(test_np)\n",
        "val_np = np.array( df_val['error']).astype(np.int)\n",
        "val_np = tf.convert_to_tensor(val_np)\n"
      ]
    },
    {
      "cell_type": "code",
      "execution_count": null,
      "id": "7c5ccd98-b139-4c6f-8153-d1e2bd057bfa",
      "metadata": {
        "id": "7c5ccd98-b139-4c6f-8153-d1e2bd057bfa"
      },
      "outputs": [],
      "source": [
        "max_vocab_size = 10000\n",
        "tokenizer = Tokenizer(num_words = max_vocab_size)\n",
        "tokenizer.fit_on_texts(df['log'])\n",
        "sequences_train =tokenizer.texts_to_sequences(df_train['log'])\n",
        "sequences_test = tokenizer.texts_to_sequences(df_test['log'])"
      ]
    },
    {
      "cell_type": "code",
      "source": [
        "sequences_val = tokenizer.texts_to_sequences(df_val['log'])"
      ],
      "metadata": {
        "id": "Mmr2P9tWhEEF"
      },
      "id": "Mmr2P9tWhEEF",
      "execution_count": null,
      "outputs": []
    },
    {
      "cell_type": "code",
      "execution_count": null,
      "id": "888a6a50-54aa-4ed5-be04-0db31dea6394",
      "metadata": {
        "colab": {
          "base_uri": "https://localhost:8080/"
        },
        "id": "888a6a50-54aa-4ed5-be04-0db31dea6394",
        "outputId": "369fa407-3e5a-48e0-c44c-52b0ccbddd05"
      },
      "outputs": [
        {
          "output_type": "execute_result",
          "data": {
            "text/plain": [
              "233771"
            ]
          },
          "metadata": {},
          "execution_count": 26
        }
      ],
      "source": [
        "word_index = tokenizer.word_index\n",
        "v = len(word_index)\n",
        "v"
      ]
    },
    {
      "cell_type": "code",
      "execution_count": null,
      "id": "830e18c3-edee-4fb6-8020-9c8b79880d8d",
      "metadata": {
        "id": "830e18c3-edee-4fb6-8020-9c8b79880d8d"
      },
      "outputs": [],
      "source": [
        "train_data = pad_sequences(sequences_train)\n",
        "train_data.shape\n",
        "train_data = tf.convert_to_tensor(train_data)"
      ]
    },
    {
      "cell_type": "code",
      "execution_count": null,
      "id": "6b4ee549-60fe-4e37-a430-c7882d2c3ff8",
      "metadata": {
        "id": "6b4ee549-60fe-4e37-a430-c7882d2c3ff8"
      },
      "outputs": [],
      "source": [
        "T = train_data.shape[1]"
      ]
    },
    {
      "cell_type": "code",
      "execution_count": null,
      "id": "839f3626-4c4c-41fc-aa42-5492e66eaf7a",
      "metadata": {
        "id": "839f3626-4c4c-41fc-aa42-5492e66eaf7a"
      },
      "outputs": [],
      "source": [
        "test_data = pad_sequences(sequences_test ,maxlen= T)\n",
        "test_data.shape\n",
        "test_data = tf.convert_to_tensor(test_data)"
      ]
    },
    {
      "cell_type": "code",
      "source": [
        "val_data = pad_sequences(sequences_val ,maxlen= T)\n",
        "val_data.shape\n",
        "val_data = tf.convert_to_tensor(val_data)"
      ],
      "metadata": {
        "id": "oHsUEDmChV7V"
      },
      "id": "oHsUEDmChV7V",
      "execution_count": null,
      "outputs": []
    },
    {
      "cell_type": "code",
      "execution_count": null,
      "id": "84373ee1-cc27-4271-b182-b1d7c8e8341d",
      "metadata": {
        "id": "84373ee1-cc27-4271-b182-b1d7c8e8341d"
      },
      "outputs": [],
      "source": [
        "emb= 40\n",
        "K =2\n",
        "\n"
      ]
    },
    {
      "cell_type": "code",
      "source": [
        "import tensorflow_hub as hub\n",
        "module_url = \"https://tfhub.dev/google/universal-sentence-encoder/4\" #@param [\"https://tfhub.dev/google/universal-sentence-encoder/4\", \"https://tfhub.dev/google/universal-sentence-encoder-large/5\"]\n",
        "model = hub.load(module_url)\n",
        "print (\"module %s loaded\" % module_url)\n",
        "def embed(input):\n",
        "  return model(input)"
      ],
      "metadata": {
        "colab": {
          "base_uri": "https://localhost:8080/"
        },
        "id": "rYHVr8CEolmy",
        "outputId": "d1b0e333-d020-47a3-af82-4e26fa133ffa"
      },
      "id": "rYHVr8CEolmy",
      "execution_count": null,
      "outputs": [
        {
          "output_type": "stream",
          "name": "stdout",
          "text": [
            "module https://tfhub.dev/google/universal-sentence-encoder/4 loaded\n"
          ]
        }
      ]
    },
    {
      "cell_type": "code",
      "source": [
        "embeding = []\n",
        "for ll in df['log']:\n",
        "  embeding.append(embed([ll]))"
      ],
      "metadata": {
        "id": "eH1s2wwEolpg"
      },
      "id": "eH1s2wwEolpg",
      "execution_count": null,
      "outputs": []
    },
    {
      "cell_type": "code",
      "source": [
        "emb = np.array(embeding)\n",
        "emb=emb.reshape(338460,512)"
      ],
      "metadata": {
        "colab": {
          "base_uri": "https://localhost:8080/"
        },
        "id": "WgZfwDHmolsm",
        "outputId": "20390632-8378-4d32-d3f0-c36530f5c40f"
      },
      "id": "WgZfwDHmolsm",
      "execution_count": null,
      "outputs": [
        {
          "output_type": "execute_result",
          "data": {
            "text/plain": [
              "array([[-0.00493155, -0.01847447, -0.03543668, ...,  0.06579278,\n",
              "        -0.00443449, -0.06133293],\n",
              "       [-0.01964419, -0.00570731, -0.00553881, ...,  0.03170839,\n",
              "         0.04093323, -0.09645946],\n",
              "       [ 0.01829919,  0.03213202, -0.02119564, ...,  0.05103691,\n",
              "         0.03279664, -0.07944331],\n",
              "       ...,\n",
              "       [-0.00744484,  0.03530394, -0.04008177, ...,  0.04673046,\n",
              "         0.03477227, -0.07184246],\n",
              "       [-0.00744485,  0.03530394, -0.04008177, ...,  0.04673046,\n",
              "         0.03477227, -0.07184246],\n",
              "       [-0.00744485,  0.03530394, -0.04008177, ...,  0.04673046,\n",
              "         0.03477227, -0.07184246]], dtype=float32)"
            ]
          },
          "metadata": {},
          "execution_count": 40
        }
      ]
    },
    {
      "cell_type": "code",
      "source": [
        "emb=emb.reshape(338460,512)\n",
        "emb.shape"
      ],
      "metadata": {
        "colab": {
          "base_uri": "https://localhost:8080/"
        },
        "id": "lticdUBRwv9G",
        "outputId": "4f06e77b-ee3f-4b42-bddb-9d2ac6a7dad0"
      },
      "id": "lticdUBRwv9G",
      "execution_count": null,
      "outputs": [
        {
          "output_type": "execute_result",
          "data": {
            "text/plain": [
              "(338460, 512)"
            ]
          },
          "metadata": {},
          "execution_count": 45
        }
      ]
    },
    {
      "cell_type": "code",
      "source": [
        "uni_emb_data = pd.DataFrame(emb)"
      ],
      "metadata": {
        "id": "1yf1m2R2wBPe"
      },
      "id": "1yf1m2R2wBPe",
      "execution_count": null,
      "outputs": []
    },
    {
      "cell_type": "code",
      "source": [
        "uni_emb_data['error'] = df['error']"
      ],
      "metadata": {
        "id": "sc-nPncQw4Km"
      },
      "id": "sc-nPncQw4Km",
      "execution_count": null,
      "outputs": []
    },
    {
      "cell_type": "code",
      "source": [
        "\n",
        "uni_emb_data"
      ],
      "metadata": {
        "colab": {
          "base_uri": "https://localhost:8080/",
          "height": 488
        },
        "id": "_vzyax56xEJe",
        "outputId": "0b6e8ea5-0987-43fb-cd49-e1d7e46c5647"
      },
      "id": "_vzyax56xEJe",
      "execution_count": null,
      "outputs": [
        {
          "output_type": "execute_result",
          "data": {
            "text/plain": [
              "               0         1         2         3         4         5         6  \\\n",
              "0      -0.004932 -0.018474 -0.035437 -0.009774  0.037055 -0.069921 -0.041327   \n",
              "1      -0.019644 -0.005707 -0.005539 -0.087540  0.024261  0.002107  0.012216   \n",
              "2       0.018299  0.032132 -0.021196 -0.023114  0.052901 -0.081266 -0.004286   \n",
              "3       0.036031  0.036511 -0.025956 -0.020340  0.053479 -0.081265 -0.018866   \n",
              "4       0.021419  0.046717 -0.032321 -0.011931  0.037876 -0.086089 -0.016719   \n",
              "...          ...       ...       ...       ...       ...       ...       ...   \n",
              "338455 -0.007445  0.035304 -0.040082 -0.055593  0.045006 -0.075279 -0.036121   \n",
              "338456 -0.007445  0.035304 -0.040082 -0.055593  0.045006 -0.075279 -0.036121   \n",
              "338457 -0.007445  0.035304 -0.040082 -0.055593  0.045006 -0.075279 -0.036121   \n",
              "338458 -0.007445  0.035304 -0.040082 -0.055593  0.045006 -0.075279 -0.036121   \n",
              "338459 -0.007445  0.035304 -0.040082 -0.055593  0.045006 -0.075279 -0.036121   \n",
              "\n",
              "               7         8         9  ...       503       504       505  \\\n",
              "0       0.007592  0.041493  0.075260  ...  0.018977  0.033009  0.035165   \n",
              "1      -0.016988  0.003096  0.035258  ...  0.024574  0.030605 -0.027119   \n",
              "2      -0.027320  0.043951  0.036480  ...  0.012343  0.056036 -0.010923   \n",
              "3      -0.029045  0.033180  0.054014  ...  0.017993  0.065929 -0.009925   \n",
              "4      -0.016340  0.035126  0.042744  ...  0.025660  0.071387 -0.039773   \n",
              "...          ...       ...       ...  ...       ...       ...       ...   \n",
              "338455 -0.031008 -0.013901  0.069895  ...  0.060853 -0.012150 -0.043362   \n",
              "338456 -0.031008 -0.013901  0.069895  ...  0.060853 -0.012150 -0.043362   \n",
              "338457 -0.031008 -0.013901  0.069895  ...  0.060853 -0.012150 -0.043362   \n",
              "338458 -0.031008 -0.013901  0.069895  ...  0.060853 -0.012150 -0.043362   \n",
              "338459 -0.031008 -0.013901  0.069895  ...  0.060853 -0.012150 -0.043362   \n",
              "\n",
              "             506       507       508       509       510       511  error  \n",
              "0       0.014623 -0.042760 -0.048367  0.065793 -0.004434 -0.061333  [1.0]  \n",
              "1       0.054535 -0.003038 -0.000016  0.031708  0.040933 -0.096459  [1.0]  \n",
              "2       0.003823 -0.057407 -0.013487  0.051037  0.032797 -0.079443  [1.0]  \n",
              "3       0.010191 -0.059999 -0.005840  0.044389  0.043014 -0.076832  [1.0]  \n",
              "4       0.016572 -0.037923 -0.021181  0.064452  0.045331 -0.075804  [1.0]  \n",
              "...          ...       ...       ...       ...       ...       ...    ...  \n",
              "338455  0.005030 -0.023818 -0.026162  0.046730  0.034772 -0.071842  [0.0]  \n",
              "338456  0.005030 -0.023818 -0.026162  0.046730  0.034772 -0.071842  [0.0]  \n",
              "338457  0.005030 -0.023818 -0.026162  0.046730  0.034772 -0.071842  [0.0]  \n",
              "338458  0.005030 -0.023818 -0.026162  0.046730  0.034772 -0.071842  [0.0]  \n",
              "338459  0.005030 -0.023818 -0.026162  0.046730  0.034772 -0.071842  [0.0]  \n",
              "\n",
              "[338460 rows x 513 columns]"
            ],
            "text/html": [
              "\n",
              "  <div id=\"df-1743752e-81a2-4b5d-9eeb-2bc330b51c5d\">\n",
              "    <div class=\"colab-df-container\">\n",
              "      <div>\n",
              "<style scoped>\n",
              "    .dataframe tbody tr th:only-of-type {\n",
              "        vertical-align: middle;\n",
              "    }\n",
              "\n",
              "    .dataframe tbody tr th {\n",
              "        vertical-align: top;\n",
              "    }\n",
              "\n",
              "    .dataframe thead th {\n",
              "        text-align: right;\n",
              "    }\n",
              "</style>\n",
              "<table border=\"1\" class=\"dataframe\">\n",
              "  <thead>\n",
              "    <tr style=\"text-align: right;\">\n",
              "      <th></th>\n",
              "      <th>0</th>\n",
              "      <th>1</th>\n",
              "      <th>2</th>\n",
              "      <th>3</th>\n",
              "      <th>4</th>\n",
              "      <th>5</th>\n",
              "      <th>6</th>\n",
              "      <th>7</th>\n",
              "      <th>8</th>\n",
              "      <th>9</th>\n",
              "      <th>...</th>\n",
              "      <th>503</th>\n",
              "      <th>504</th>\n",
              "      <th>505</th>\n",
              "      <th>506</th>\n",
              "      <th>507</th>\n",
              "      <th>508</th>\n",
              "      <th>509</th>\n",
              "      <th>510</th>\n",
              "      <th>511</th>\n",
              "      <th>error</th>\n",
              "    </tr>\n",
              "  </thead>\n",
              "  <tbody>\n",
              "    <tr>\n",
              "      <th>0</th>\n",
              "      <td>-0.004932</td>\n",
              "      <td>-0.018474</td>\n",
              "      <td>-0.035437</td>\n",
              "      <td>-0.009774</td>\n",
              "      <td>0.037055</td>\n",
              "      <td>-0.069921</td>\n",
              "      <td>-0.041327</td>\n",
              "      <td>0.007592</td>\n",
              "      <td>0.041493</td>\n",
              "      <td>0.075260</td>\n",
              "      <td>...</td>\n",
              "      <td>0.018977</td>\n",
              "      <td>0.033009</td>\n",
              "      <td>0.035165</td>\n",
              "      <td>0.014623</td>\n",
              "      <td>-0.042760</td>\n",
              "      <td>-0.048367</td>\n",
              "      <td>0.065793</td>\n",
              "      <td>-0.004434</td>\n",
              "      <td>-0.061333</td>\n",
              "      <td>[1.0]</td>\n",
              "    </tr>\n",
              "    <tr>\n",
              "      <th>1</th>\n",
              "      <td>-0.019644</td>\n",
              "      <td>-0.005707</td>\n",
              "      <td>-0.005539</td>\n",
              "      <td>-0.087540</td>\n",
              "      <td>0.024261</td>\n",
              "      <td>0.002107</td>\n",
              "      <td>0.012216</td>\n",
              "      <td>-0.016988</td>\n",
              "      <td>0.003096</td>\n",
              "      <td>0.035258</td>\n",
              "      <td>...</td>\n",
              "      <td>0.024574</td>\n",
              "      <td>0.030605</td>\n",
              "      <td>-0.027119</td>\n",
              "      <td>0.054535</td>\n",
              "      <td>-0.003038</td>\n",
              "      <td>-0.000016</td>\n",
              "      <td>0.031708</td>\n",
              "      <td>0.040933</td>\n",
              "      <td>-0.096459</td>\n",
              "      <td>[1.0]</td>\n",
              "    </tr>\n",
              "    <tr>\n",
              "      <th>2</th>\n",
              "      <td>0.018299</td>\n",
              "      <td>0.032132</td>\n",
              "      <td>-0.021196</td>\n",
              "      <td>-0.023114</td>\n",
              "      <td>0.052901</td>\n",
              "      <td>-0.081266</td>\n",
              "      <td>-0.004286</td>\n",
              "      <td>-0.027320</td>\n",
              "      <td>0.043951</td>\n",
              "      <td>0.036480</td>\n",
              "      <td>...</td>\n",
              "      <td>0.012343</td>\n",
              "      <td>0.056036</td>\n",
              "      <td>-0.010923</td>\n",
              "      <td>0.003823</td>\n",
              "      <td>-0.057407</td>\n",
              "      <td>-0.013487</td>\n",
              "      <td>0.051037</td>\n",
              "      <td>0.032797</td>\n",
              "      <td>-0.079443</td>\n",
              "      <td>[1.0]</td>\n",
              "    </tr>\n",
              "    <tr>\n",
              "      <th>3</th>\n",
              "      <td>0.036031</td>\n",
              "      <td>0.036511</td>\n",
              "      <td>-0.025956</td>\n",
              "      <td>-0.020340</td>\n",
              "      <td>0.053479</td>\n",
              "      <td>-0.081265</td>\n",
              "      <td>-0.018866</td>\n",
              "      <td>-0.029045</td>\n",
              "      <td>0.033180</td>\n",
              "      <td>0.054014</td>\n",
              "      <td>...</td>\n",
              "      <td>0.017993</td>\n",
              "      <td>0.065929</td>\n",
              "      <td>-0.009925</td>\n",
              "      <td>0.010191</td>\n",
              "      <td>-0.059999</td>\n",
              "      <td>-0.005840</td>\n",
              "      <td>0.044389</td>\n",
              "      <td>0.043014</td>\n",
              "      <td>-0.076832</td>\n",
              "      <td>[1.0]</td>\n",
              "    </tr>\n",
              "    <tr>\n",
              "      <th>4</th>\n",
              "      <td>0.021419</td>\n",
              "      <td>0.046717</td>\n",
              "      <td>-0.032321</td>\n",
              "      <td>-0.011931</td>\n",
              "      <td>0.037876</td>\n",
              "      <td>-0.086089</td>\n",
              "      <td>-0.016719</td>\n",
              "      <td>-0.016340</td>\n",
              "      <td>0.035126</td>\n",
              "      <td>0.042744</td>\n",
              "      <td>...</td>\n",
              "      <td>0.025660</td>\n",
              "      <td>0.071387</td>\n",
              "      <td>-0.039773</td>\n",
              "      <td>0.016572</td>\n",
              "      <td>-0.037923</td>\n",
              "      <td>-0.021181</td>\n",
              "      <td>0.064452</td>\n",
              "      <td>0.045331</td>\n",
              "      <td>-0.075804</td>\n",
              "      <td>[1.0]</td>\n",
              "    </tr>\n",
              "    <tr>\n",
              "      <th>...</th>\n",
              "      <td>...</td>\n",
              "      <td>...</td>\n",
              "      <td>...</td>\n",
              "      <td>...</td>\n",
              "      <td>...</td>\n",
              "      <td>...</td>\n",
              "      <td>...</td>\n",
              "      <td>...</td>\n",
              "      <td>...</td>\n",
              "      <td>...</td>\n",
              "      <td>...</td>\n",
              "      <td>...</td>\n",
              "      <td>...</td>\n",
              "      <td>...</td>\n",
              "      <td>...</td>\n",
              "      <td>...</td>\n",
              "      <td>...</td>\n",
              "      <td>...</td>\n",
              "      <td>...</td>\n",
              "      <td>...</td>\n",
              "      <td>...</td>\n",
              "    </tr>\n",
              "    <tr>\n",
              "      <th>338455</th>\n",
              "      <td>-0.007445</td>\n",
              "      <td>0.035304</td>\n",
              "      <td>-0.040082</td>\n",
              "      <td>-0.055593</td>\n",
              "      <td>0.045006</td>\n",
              "      <td>-0.075279</td>\n",
              "      <td>-0.036121</td>\n",
              "      <td>-0.031008</td>\n",
              "      <td>-0.013901</td>\n",
              "      <td>0.069895</td>\n",
              "      <td>...</td>\n",
              "      <td>0.060853</td>\n",
              "      <td>-0.012150</td>\n",
              "      <td>-0.043362</td>\n",
              "      <td>0.005030</td>\n",
              "      <td>-0.023818</td>\n",
              "      <td>-0.026162</td>\n",
              "      <td>0.046730</td>\n",
              "      <td>0.034772</td>\n",
              "      <td>-0.071842</td>\n",
              "      <td>[0.0]</td>\n",
              "    </tr>\n",
              "    <tr>\n",
              "      <th>338456</th>\n",
              "      <td>-0.007445</td>\n",
              "      <td>0.035304</td>\n",
              "      <td>-0.040082</td>\n",
              "      <td>-0.055593</td>\n",
              "      <td>0.045006</td>\n",
              "      <td>-0.075279</td>\n",
              "      <td>-0.036121</td>\n",
              "      <td>-0.031008</td>\n",
              "      <td>-0.013901</td>\n",
              "      <td>0.069895</td>\n",
              "      <td>...</td>\n",
              "      <td>0.060853</td>\n",
              "      <td>-0.012150</td>\n",
              "      <td>-0.043362</td>\n",
              "      <td>0.005030</td>\n",
              "      <td>-0.023818</td>\n",
              "      <td>-0.026162</td>\n",
              "      <td>0.046730</td>\n",
              "      <td>0.034772</td>\n",
              "      <td>-0.071842</td>\n",
              "      <td>[0.0]</td>\n",
              "    </tr>\n",
              "    <tr>\n",
              "      <th>338457</th>\n",
              "      <td>-0.007445</td>\n",
              "      <td>0.035304</td>\n",
              "      <td>-0.040082</td>\n",
              "      <td>-0.055593</td>\n",
              "      <td>0.045006</td>\n",
              "      <td>-0.075279</td>\n",
              "      <td>-0.036121</td>\n",
              "      <td>-0.031008</td>\n",
              "      <td>-0.013901</td>\n",
              "      <td>0.069895</td>\n",
              "      <td>...</td>\n",
              "      <td>0.060853</td>\n",
              "      <td>-0.012150</td>\n",
              "      <td>-0.043362</td>\n",
              "      <td>0.005030</td>\n",
              "      <td>-0.023818</td>\n",
              "      <td>-0.026162</td>\n",
              "      <td>0.046730</td>\n",
              "      <td>0.034772</td>\n",
              "      <td>-0.071842</td>\n",
              "      <td>[0.0]</td>\n",
              "    </tr>\n",
              "    <tr>\n",
              "      <th>338458</th>\n",
              "      <td>-0.007445</td>\n",
              "      <td>0.035304</td>\n",
              "      <td>-0.040082</td>\n",
              "      <td>-0.055593</td>\n",
              "      <td>0.045006</td>\n",
              "      <td>-0.075279</td>\n",
              "      <td>-0.036121</td>\n",
              "      <td>-0.031008</td>\n",
              "      <td>-0.013901</td>\n",
              "      <td>0.069895</td>\n",
              "      <td>...</td>\n",
              "      <td>0.060853</td>\n",
              "      <td>-0.012150</td>\n",
              "      <td>-0.043362</td>\n",
              "      <td>0.005030</td>\n",
              "      <td>-0.023818</td>\n",
              "      <td>-0.026162</td>\n",
              "      <td>0.046730</td>\n",
              "      <td>0.034772</td>\n",
              "      <td>-0.071842</td>\n",
              "      <td>[0.0]</td>\n",
              "    </tr>\n",
              "    <tr>\n",
              "      <th>338459</th>\n",
              "      <td>-0.007445</td>\n",
              "      <td>0.035304</td>\n",
              "      <td>-0.040082</td>\n",
              "      <td>-0.055593</td>\n",
              "      <td>0.045006</td>\n",
              "      <td>-0.075279</td>\n",
              "      <td>-0.036121</td>\n",
              "      <td>-0.031008</td>\n",
              "      <td>-0.013901</td>\n",
              "      <td>0.069895</td>\n",
              "      <td>...</td>\n",
              "      <td>0.060853</td>\n",
              "      <td>-0.012150</td>\n",
              "      <td>-0.043362</td>\n",
              "      <td>0.005030</td>\n",
              "      <td>-0.023818</td>\n",
              "      <td>-0.026162</td>\n",
              "      <td>0.046730</td>\n",
              "      <td>0.034772</td>\n",
              "      <td>-0.071842</td>\n",
              "      <td>[0.0]</td>\n",
              "    </tr>\n",
              "  </tbody>\n",
              "</table>\n",
              "<p>338460 rows × 513 columns</p>\n",
              "</div>\n",
              "      <button class=\"colab-df-convert\" onclick=\"convertToInteractive('df-1743752e-81a2-4b5d-9eeb-2bc330b51c5d')\"\n",
              "              title=\"Convert this dataframe to an interactive table.\"\n",
              "              style=\"display:none;\">\n",
              "        \n",
              "  <svg xmlns=\"http://www.w3.org/2000/svg\" height=\"24px\"viewBox=\"0 0 24 24\"\n",
              "       width=\"24px\">\n",
              "    <path d=\"M0 0h24v24H0V0z\" fill=\"none\"/>\n",
              "    <path d=\"M18.56 5.44l.94 2.06.94-2.06 2.06-.94-2.06-.94-.94-2.06-.94 2.06-2.06.94zm-11 1L8.5 8.5l.94-2.06 2.06-.94-2.06-.94L8.5 2.5l-.94 2.06-2.06.94zm10 10l.94 2.06.94-2.06 2.06-.94-2.06-.94-.94-2.06-.94 2.06-2.06.94z\"/><path d=\"M17.41 7.96l-1.37-1.37c-.4-.4-.92-.59-1.43-.59-.52 0-1.04.2-1.43.59L10.3 9.45l-7.72 7.72c-.78.78-.78 2.05 0 2.83L4 21.41c.39.39.9.59 1.41.59.51 0 1.02-.2 1.41-.59l7.78-7.78 2.81-2.81c.8-.78.8-2.07 0-2.86zM5.41 20L4 18.59l7.72-7.72 1.47 1.35L5.41 20z\"/>\n",
              "  </svg>\n",
              "      </button>\n",
              "      \n",
              "  <style>\n",
              "    .colab-df-container {\n",
              "      display:flex;\n",
              "      flex-wrap:wrap;\n",
              "      gap: 12px;\n",
              "    }\n",
              "\n",
              "    .colab-df-convert {\n",
              "      background-color: #E8F0FE;\n",
              "      border: none;\n",
              "      border-radius: 50%;\n",
              "      cursor: pointer;\n",
              "      display: none;\n",
              "      fill: #1967D2;\n",
              "      height: 32px;\n",
              "      padding: 0 0 0 0;\n",
              "      width: 32px;\n",
              "    }\n",
              "\n",
              "    .colab-df-convert:hover {\n",
              "      background-color: #E2EBFA;\n",
              "      box-shadow: 0px 1px 2px rgba(60, 64, 67, 0.3), 0px 1px 3px 1px rgba(60, 64, 67, 0.15);\n",
              "      fill: #174EA6;\n",
              "    }\n",
              "\n",
              "    [theme=dark] .colab-df-convert {\n",
              "      background-color: #3B4455;\n",
              "      fill: #D2E3FC;\n",
              "    }\n",
              "\n",
              "    [theme=dark] .colab-df-convert:hover {\n",
              "      background-color: #434B5C;\n",
              "      box-shadow: 0px 1px 3px 1px rgba(0, 0, 0, 0.15);\n",
              "      filter: drop-shadow(0px 1px 2px rgba(0, 0, 0, 0.3));\n",
              "      fill: #FFFFFF;\n",
              "    }\n",
              "  </style>\n",
              "\n",
              "      <script>\n",
              "        const buttonEl =\n",
              "          document.querySelector('#df-1743752e-81a2-4b5d-9eeb-2bc330b51c5d button.colab-df-convert');\n",
              "        buttonEl.style.display =\n",
              "          google.colab.kernel.accessAllowed ? 'block' : 'none';\n",
              "\n",
              "        async function convertToInteractive(key) {\n",
              "          const element = document.querySelector('#df-1743752e-81a2-4b5d-9eeb-2bc330b51c5d');\n",
              "          const dataTable =\n",
              "            await google.colab.kernel.invokeFunction('convertToInteractive',\n",
              "                                                     [key], {});\n",
              "          if (!dataTable) return;\n",
              "\n",
              "          const docLinkHtml = 'Like what you see? Visit the ' +\n",
              "            '<a target=\"_blank\" href=https://colab.research.google.com/notebooks/data_table.ipynb>data table notebook</a>'\n",
              "            + ' to learn more about interactive tables.';\n",
              "          element.innerHTML = '';\n",
              "          dataTable['output_type'] = 'display_data';\n",
              "          await google.colab.output.renderOutput(dataTable, element);\n",
              "          const docLink = document.createElement('div');\n",
              "          docLink.innerHTML = docLinkHtml;\n",
              "          element.appendChild(docLink);\n",
              "        }\n",
              "      </script>\n",
              "    </div>\n",
              "  </div>\n",
              "  "
            ]
          },
          "metadata": {},
          "execution_count": 54
        }
      ]
    },
    {
      "cell_type": "code",
      "source": [
        "uni_emb_data.to_csv('/content/drive/MyDrive/conv/google_emb.csv')"
      ],
      "metadata": {
        "id": "Ok_ACfyVxaWH"
      },
      "id": "Ok_ACfyVxaWH",
      "execution_count": null,
      "outputs": []
    },
    {
      "cell_type": "code",
      "source": [
        "features = emb\n",
        "target = df['error']\n",
        "\n",
        "x_train, x_test, y_train, y_test = train_test_split(\n",
        "    features, target, test_size=0.2, stratify=target\n",
        ")\n",
        "x_val, x_test, y_val, y_test = train_test_split(\n",
        "    x_test, y_test, test_size=0.5\n",
        ")"
      ],
      "metadata": {
        "colab": {
          "base_uri": "https://localhost:8080/",
          "height": 235
        },
        "id": "g95SmNOTolu7",
        "outputId": "caf70b31-0cae-4087-bf62-d98657baeb0a"
      },
      "id": "g95SmNOTolu7",
      "execution_count": null,
      "outputs": [
        {
          "output_type": "error",
          "ename": "NameError",
          "evalue": "ignored",
          "traceback": [
            "\u001b[0;31m---------------------------------------------------------------------------\u001b[0m",
            "\u001b[0;31mNameError\u001b[0m                                 Traceback (most recent call last)",
            "\u001b[0;32m<ipython-input-39-d491cb10ac2b>\u001b[0m in \u001b[0;36m<module>\u001b[0;34m\u001b[0m\n\u001b[0;32m----> 1\u001b[0;31m \u001b[0mfeatures\u001b[0m \u001b[0;34m=\u001b[0m \u001b[0msex\u001b[0m\u001b[0;34m\u001b[0m\u001b[0;34m\u001b[0m\u001b[0m\n\u001b[0m\u001b[1;32m      2\u001b[0m \u001b[0mtarget\u001b[0m \u001b[0;34m=\u001b[0m \u001b[0mdf\u001b[0m\u001b[0;34m[\u001b[0m\u001b[0;34m'error'\u001b[0m\u001b[0;34m]\u001b[0m\u001b[0;34m\u001b[0m\u001b[0;34m\u001b[0m\u001b[0m\n\u001b[1;32m      3\u001b[0m \u001b[0;34m\u001b[0m\u001b[0m\n\u001b[1;32m      4\u001b[0m x_train, x_test, y_train, y_test = train_test_split(\n\u001b[1;32m      5\u001b[0m     \u001b[0mfeatures\u001b[0m\u001b[0;34m,\u001b[0m \u001b[0mtarget\u001b[0m\u001b[0;34m,\u001b[0m \u001b[0mtest_size\u001b[0m\u001b[0;34m=\u001b[0m\u001b[0;36m0.2\u001b[0m\u001b[0;34m,\u001b[0m \u001b[0mstratify\u001b[0m\u001b[0;34m=\u001b[0m\u001b[0mtarget\u001b[0m\u001b[0;34m\u001b[0m\u001b[0;34m\u001b[0m\u001b[0m\n",
            "\u001b[0;31mNameError\u001b[0m: name 'sex' is not defined"
          ]
        }
      ]
    },
    {
      "cell_type": "code",
      "execution_count": null,
      "id": "ca6b4235-236e-4cc5-9c7a-16201d9cf53a",
      "metadata": {
        "colab": {
          "base_uri": "https://localhost:8080/"
        },
        "id": "ca6b4235-236e-4cc5-9c7a-16201d9cf53a",
        "outputId": "79c98331-63fc-4d6f-c1a8-1361e832f080"
      },
      "outputs": [
        {
          "output_type": "stream",
          "name": "stderr",
          "text": [
            "WARNING:tensorflow:Layer lstm will not use cuDNN kernels since it doesn't meet the criteria. It will use a generic GPU kernel as fallback when running on GPU.\n",
            "WARNING:tensorflow:Layer gru will not use cuDNN kernels since it doesn't meet the criteria. It will use a generic GPU kernel as fallback when running on GPU.\n",
            "WARNING:tensorflow:Layer gru_1 will not use cuDNN kernels since it doesn't meet the criteria. It will use a generic GPU kernel as fallback when running on GPU.\n"
          ]
        }
      ],
      "source": [
        "model = tf.keras.Sequential()\n",
        "model.add(InputLayer(input_shape=x_train.shape[1]))\n",
        "model.add(Embedding(v+1,emb) )\n",
        "model.add(LSTM(64, activation='relu',\n",
        "                return_sequences=True))\n",
        "model.add(GRU(64, activation='relu',\n",
        "                return_sequences=True))\n",
        "model.add(Dropout(0.2))\n",
        "\n",
        "model.add(GRU(48, activation='relu'))\n",
        "\n",
        "model.add(Dropout(0.2))\n",
        "model.add(Dense(64, activation='relu'))\n",
        "model.add(Dropout(0.3))\n",
        "model.add(Dense(32, activation='tanh'))\n",
        "model.add(Dropout(0.3))\n",
        "\n",
        "model.add(Dense(16, activation='sigmoid'))\n",
        "model.add(Dense(1, activation='sigmoid'))\n",
        "\n"
      ]
    },
    {
      "cell_type": "code",
      "execution_count": null,
      "id": "6d27f9e2-87de-404a-9164-59101dbc3877",
      "metadata": {
        "id": "6d27f9e2-87de-404a-9164-59101dbc3877"
      },
      "outputs": [],
      "source": [
        "from keras import backend as K\n",
        "\n",
        "def recall_m(y_true, y_pred):\n",
        "    true_positives = K.sum(K.round(K.clip(y_true * y_pred, 0, 1)))\n",
        "    possible_positives = K.sum(K.round(K.clip(y_true, 0, 1)))\n",
        "    recall = true_positives / (possible_positives + K.epsilon())\n",
        "    return recall\n",
        "\n",
        "def precision_m(y_true, y_pred):\n",
        "    true_positives = K.sum(K.round(K.clip(y_true * y_pred, 0, 1)))\n",
        "    predicted_positives = K.sum(K.round(K.clip(y_pred, 0, 1)))\n",
        "    precision = true_positives / (predicted_positives + K.epsilon())\n",
        "    return precision\n",
        "\n",
        "def f1_m(y_true, y_pred):\n",
        "    precision = precision_m(y_true, y_pred)\n",
        "    recall = recall_m(y_true, y_pred)\n",
        "    return 2*((precision*recall)/(precision+recall+K.epsilon()))"
      ]
    },
    {
      "cell_type": "code",
      "execution_count": null,
      "id": "7f79878f-fe47-43b2-8178-fc9fdececba8",
      "metadata": {
        "id": "7f79878f-fe47-43b2-8178-fc9fdececba8"
      },
      "outputs": [],
      "source": [
        "np.random.seed(42)\n",
        "model.compile(\n",
        "    loss = 'binary_crossentropy',\n",
        "    optimizer = 'adam',\n",
        "\n",
        "    metrics = ['acc',f1_m,precision_m, recall_m]\n",
        ")"
      ]
    },
    {
      "cell_type": "code",
      "execution_count": null,
      "id": "4365b0fc-7c0e-4a0b-9c16-9d33714fde3a",
      "metadata": {
        "colab": {
          "base_uri": "https://localhost:8080/",
          "height": 363
        },
        "id": "4365b0fc-7c0e-4a0b-9c16-9d33714fde3a",
        "outputId": "dde2fc3b-b850-4bc3-eb56-67b4651359d3"
      },
      "outputs": [
        {
          "output_type": "stream",
          "name": "stdout",
          "text": [
            "Epoch 1/5\n",
            " 401/8462 [>.............................] - ETA: 1:22:15 - loss: 0.5178 - acc: 0.7910 - f1_m: 0.8817 - precision_m: 0.7910 - recall_m: 1.0000"
          ]
        },
        {
          "output_type": "error",
          "ename": "KeyboardInterrupt",
          "evalue": "ignored",
          "traceback": [
            "\u001b[0;31m---------------------------------------------------------------------------\u001b[0m",
            "\u001b[0;31mKeyboardInterrupt\u001b[0m                         Traceback (most recent call last)",
            "\u001b[0;32m<ipython-input-36-595f57629fff>\u001b[0m in \u001b[0;36m<module>\u001b[0;34m\u001b[0m\n\u001b[0;32m----> 1\u001b[0;31m r = model.fit(train_data , train_np, epochs = 5 ,\n\u001b[0m\u001b[1;32m      2\u001b[0m               validation_data = (test_data , test_np))\n",
            "\u001b[0;32m/usr/local/lib/python3.8/dist-packages/keras/utils/traceback_utils.py\u001b[0m in \u001b[0;36merror_handler\u001b[0;34m(*args, **kwargs)\u001b[0m\n\u001b[1;32m     62\u001b[0m     \u001b[0mfiltered_tb\u001b[0m \u001b[0;34m=\u001b[0m \u001b[0;32mNone\u001b[0m\u001b[0;34m\u001b[0m\u001b[0;34m\u001b[0m\u001b[0m\n\u001b[1;32m     63\u001b[0m     \u001b[0;32mtry\u001b[0m\u001b[0;34m:\u001b[0m\u001b[0;34m\u001b[0m\u001b[0;34m\u001b[0m\u001b[0m\n\u001b[0;32m---> 64\u001b[0;31m       \u001b[0;32mreturn\u001b[0m \u001b[0mfn\u001b[0m\u001b[0;34m(\u001b[0m\u001b[0;34m*\u001b[0m\u001b[0margs\u001b[0m\u001b[0;34m,\u001b[0m \u001b[0;34m**\u001b[0m\u001b[0mkwargs\u001b[0m\u001b[0;34m)\u001b[0m\u001b[0;34m\u001b[0m\u001b[0;34m\u001b[0m\u001b[0m\n\u001b[0m\u001b[1;32m     65\u001b[0m     \u001b[0;32mexcept\u001b[0m \u001b[0mException\u001b[0m \u001b[0;32mas\u001b[0m \u001b[0me\u001b[0m\u001b[0;34m:\u001b[0m  \u001b[0;31m# pylint: disable=broad-except\u001b[0m\u001b[0;34m\u001b[0m\u001b[0;34m\u001b[0m\u001b[0m\n\u001b[1;32m     66\u001b[0m       \u001b[0mfiltered_tb\u001b[0m \u001b[0;34m=\u001b[0m \u001b[0m_process_traceback_frames\u001b[0m\u001b[0;34m(\u001b[0m\u001b[0me\u001b[0m\u001b[0;34m.\u001b[0m\u001b[0m__traceback__\u001b[0m\u001b[0;34m)\u001b[0m\u001b[0;34m\u001b[0m\u001b[0;34m\u001b[0m\u001b[0m\n",
            "\u001b[0;32m/usr/local/lib/python3.8/dist-packages/keras/engine/training.py\u001b[0m in \u001b[0;36mfit\u001b[0;34m(self, x, y, batch_size, epochs, verbose, callbacks, validation_split, validation_data, shuffle, class_weight, sample_weight, initial_epoch, steps_per_epoch, validation_steps, validation_batch_size, validation_freq, max_queue_size, workers, use_multiprocessing)\u001b[0m\n\u001b[1;32m   1407\u001b[0m                 _r=1):\n\u001b[1;32m   1408\u001b[0m               \u001b[0mcallbacks\u001b[0m\u001b[0;34m.\u001b[0m\u001b[0mon_train_batch_begin\u001b[0m\u001b[0;34m(\u001b[0m\u001b[0mstep\u001b[0m\u001b[0;34m)\u001b[0m\u001b[0;34m\u001b[0m\u001b[0;34m\u001b[0m\u001b[0m\n\u001b[0;32m-> 1409\u001b[0;31m               \u001b[0mtmp_logs\u001b[0m \u001b[0;34m=\u001b[0m \u001b[0mself\u001b[0m\u001b[0;34m.\u001b[0m\u001b[0mtrain_function\u001b[0m\u001b[0;34m(\u001b[0m\u001b[0miterator\u001b[0m\u001b[0;34m)\u001b[0m\u001b[0;34m\u001b[0m\u001b[0;34m\u001b[0m\u001b[0m\n\u001b[0m\u001b[1;32m   1410\u001b[0m               \u001b[0;32mif\u001b[0m \u001b[0mdata_handler\u001b[0m\u001b[0;34m.\u001b[0m\u001b[0mshould_sync\u001b[0m\u001b[0;34m:\u001b[0m\u001b[0;34m\u001b[0m\u001b[0;34m\u001b[0m\u001b[0m\n\u001b[1;32m   1411\u001b[0m                 \u001b[0mcontext\u001b[0m\u001b[0;34m.\u001b[0m\u001b[0masync_wait\u001b[0m\u001b[0;34m(\u001b[0m\u001b[0;34m)\u001b[0m\u001b[0;34m\u001b[0m\u001b[0;34m\u001b[0m\u001b[0m\n",
            "\u001b[0;32m/usr/local/lib/python3.8/dist-packages/tensorflow/python/util/traceback_utils.py\u001b[0m in \u001b[0;36merror_handler\u001b[0;34m(*args, **kwargs)\u001b[0m\n\u001b[1;32m    148\u001b[0m     \u001b[0mfiltered_tb\u001b[0m \u001b[0;34m=\u001b[0m \u001b[0;32mNone\u001b[0m\u001b[0;34m\u001b[0m\u001b[0;34m\u001b[0m\u001b[0m\n\u001b[1;32m    149\u001b[0m     \u001b[0;32mtry\u001b[0m\u001b[0;34m:\u001b[0m\u001b[0;34m\u001b[0m\u001b[0;34m\u001b[0m\u001b[0m\n\u001b[0;32m--> 150\u001b[0;31m       \u001b[0;32mreturn\u001b[0m \u001b[0mfn\u001b[0m\u001b[0;34m(\u001b[0m\u001b[0;34m*\u001b[0m\u001b[0margs\u001b[0m\u001b[0;34m,\u001b[0m \u001b[0;34m**\u001b[0m\u001b[0mkwargs\u001b[0m\u001b[0;34m)\u001b[0m\u001b[0;34m\u001b[0m\u001b[0;34m\u001b[0m\u001b[0m\n\u001b[0m\u001b[1;32m    151\u001b[0m     \u001b[0;32mexcept\u001b[0m \u001b[0mException\u001b[0m \u001b[0;32mas\u001b[0m \u001b[0me\u001b[0m\u001b[0;34m:\u001b[0m\u001b[0;34m\u001b[0m\u001b[0;34m\u001b[0m\u001b[0m\n\u001b[1;32m    152\u001b[0m       \u001b[0mfiltered_tb\u001b[0m \u001b[0;34m=\u001b[0m \u001b[0m_process_traceback_frames\u001b[0m\u001b[0;34m(\u001b[0m\u001b[0me\u001b[0m\u001b[0;34m.\u001b[0m\u001b[0m__traceback__\u001b[0m\u001b[0;34m)\u001b[0m\u001b[0;34m\u001b[0m\u001b[0;34m\u001b[0m\u001b[0m\n",
            "\u001b[0;32m/usr/local/lib/python3.8/dist-packages/tensorflow/python/eager/def_function.py\u001b[0m in \u001b[0;36m__call__\u001b[0;34m(self, *args, **kwds)\u001b[0m\n\u001b[1;32m    913\u001b[0m \u001b[0;34m\u001b[0m\u001b[0m\n\u001b[1;32m    914\u001b[0m       \u001b[0;32mwith\u001b[0m \u001b[0mOptionalXlaContext\u001b[0m\u001b[0;34m(\u001b[0m\u001b[0mself\u001b[0m\u001b[0;34m.\u001b[0m\u001b[0m_jit_compile\u001b[0m\u001b[0;34m)\u001b[0m\u001b[0;34m:\u001b[0m\u001b[0;34m\u001b[0m\u001b[0;34m\u001b[0m\u001b[0m\n\u001b[0;32m--> 915\u001b[0;31m         \u001b[0mresult\u001b[0m \u001b[0;34m=\u001b[0m \u001b[0mself\u001b[0m\u001b[0;34m.\u001b[0m\u001b[0m_call\u001b[0m\u001b[0;34m(\u001b[0m\u001b[0;34m*\u001b[0m\u001b[0margs\u001b[0m\u001b[0;34m,\u001b[0m \u001b[0;34m**\u001b[0m\u001b[0mkwds\u001b[0m\u001b[0;34m)\u001b[0m\u001b[0;34m\u001b[0m\u001b[0;34m\u001b[0m\u001b[0m\n\u001b[0m\u001b[1;32m    916\u001b[0m \u001b[0;34m\u001b[0m\u001b[0m\n\u001b[1;32m    917\u001b[0m       \u001b[0mnew_tracing_count\u001b[0m \u001b[0;34m=\u001b[0m \u001b[0mself\u001b[0m\u001b[0;34m.\u001b[0m\u001b[0mexperimental_get_tracing_count\u001b[0m\u001b[0;34m(\u001b[0m\u001b[0;34m)\u001b[0m\u001b[0;34m\u001b[0m\u001b[0;34m\u001b[0m\u001b[0m\n",
            "\u001b[0;32m/usr/local/lib/python3.8/dist-packages/tensorflow/python/eager/def_function.py\u001b[0m in \u001b[0;36m_call\u001b[0;34m(self, *args, **kwds)\u001b[0m\n\u001b[1;32m    945\u001b[0m       \u001b[0;31m# In this case we have created variables on the first call, so we run the\u001b[0m\u001b[0;34m\u001b[0m\u001b[0;34m\u001b[0m\u001b[0;34m\u001b[0m\u001b[0m\n\u001b[1;32m    946\u001b[0m       \u001b[0;31m# defunned version which is guaranteed to never create variables.\u001b[0m\u001b[0;34m\u001b[0m\u001b[0;34m\u001b[0m\u001b[0;34m\u001b[0m\u001b[0m\n\u001b[0;32m--> 947\u001b[0;31m       \u001b[0;32mreturn\u001b[0m \u001b[0mself\u001b[0m\u001b[0;34m.\u001b[0m\u001b[0m_stateless_fn\u001b[0m\u001b[0;34m(\u001b[0m\u001b[0;34m*\u001b[0m\u001b[0margs\u001b[0m\u001b[0;34m,\u001b[0m \u001b[0;34m**\u001b[0m\u001b[0mkwds\u001b[0m\u001b[0;34m)\u001b[0m  \u001b[0;31m# pylint: disable=not-callable\u001b[0m\u001b[0;34m\u001b[0m\u001b[0;34m\u001b[0m\u001b[0m\n\u001b[0m\u001b[1;32m    948\u001b[0m     \u001b[0;32melif\u001b[0m \u001b[0mself\u001b[0m\u001b[0;34m.\u001b[0m\u001b[0m_stateful_fn\u001b[0m \u001b[0;32mis\u001b[0m \u001b[0;32mnot\u001b[0m \u001b[0;32mNone\u001b[0m\u001b[0;34m:\u001b[0m\u001b[0;34m\u001b[0m\u001b[0;34m\u001b[0m\u001b[0m\n\u001b[1;32m    949\u001b[0m       \u001b[0;31m# Release the lock early so that multiple threads can perform the call\u001b[0m\u001b[0;34m\u001b[0m\u001b[0;34m\u001b[0m\u001b[0;34m\u001b[0m\u001b[0m\n",
            "\u001b[0;32m/usr/local/lib/python3.8/dist-packages/tensorflow/python/eager/function.py\u001b[0m in \u001b[0;36m__call__\u001b[0;34m(self, *args, **kwargs)\u001b[0m\n\u001b[1;32m   2451\u001b[0m       (graph_function,\n\u001b[1;32m   2452\u001b[0m        filtered_flat_args) = self._maybe_define_function(args, kwargs)\n\u001b[0;32m-> 2453\u001b[0;31m     return graph_function._call_flat(\n\u001b[0m\u001b[1;32m   2454\u001b[0m         filtered_flat_args, captured_inputs=graph_function.captured_inputs)  # pylint: disable=protected-access\n\u001b[1;32m   2455\u001b[0m \u001b[0;34m\u001b[0m\u001b[0m\n",
            "\u001b[0;32m/usr/local/lib/python3.8/dist-packages/tensorflow/python/eager/function.py\u001b[0m in \u001b[0;36m_call_flat\u001b[0;34m(self, args, captured_inputs, cancellation_manager)\u001b[0m\n\u001b[1;32m   1858\u001b[0m         and executing_eagerly):\n\u001b[1;32m   1859\u001b[0m       \u001b[0;31m# No tape is watching; skip to running the function.\u001b[0m\u001b[0;34m\u001b[0m\u001b[0;34m\u001b[0m\u001b[0;34m\u001b[0m\u001b[0m\n\u001b[0;32m-> 1860\u001b[0;31m       return self._build_call_outputs(self._inference_function.call(\n\u001b[0m\u001b[1;32m   1861\u001b[0m           ctx, args, cancellation_manager=cancellation_manager))\n\u001b[1;32m   1862\u001b[0m     forward_backward = self._select_forward_and_backward_functions(\n",
            "\u001b[0;32m/usr/local/lib/python3.8/dist-packages/tensorflow/python/eager/function.py\u001b[0m in \u001b[0;36mcall\u001b[0;34m(self, ctx, args, cancellation_manager)\u001b[0m\n\u001b[1;32m    495\u001b[0m       \u001b[0;32mwith\u001b[0m \u001b[0m_InterpolateFunctionError\u001b[0m\u001b[0;34m(\u001b[0m\u001b[0mself\u001b[0m\u001b[0;34m)\u001b[0m\u001b[0;34m:\u001b[0m\u001b[0;34m\u001b[0m\u001b[0;34m\u001b[0m\u001b[0m\n\u001b[1;32m    496\u001b[0m         \u001b[0;32mif\u001b[0m \u001b[0mcancellation_manager\u001b[0m \u001b[0;32mis\u001b[0m \u001b[0;32mNone\u001b[0m\u001b[0;34m:\u001b[0m\u001b[0;34m\u001b[0m\u001b[0;34m\u001b[0m\u001b[0m\n\u001b[0;32m--> 497\u001b[0;31m           outputs = execute.execute(\n\u001b[0m\u001b[1;32m    498\u001b[0m               \u001b[0mstr\u001b[0m\u001b[0;34m(\u001b[0m\u001b[0mself\u001b[0m\u001b[0;34m.\u001b[0m\u001b[0msignature\u001b[0m\u001b[0;34m.\u001b[0m\u001b[0mname\u001b[0m\u001b[0;34m)\u001b[0m\u001b[0;34m,\u001b[0m\u001b[0;34m\u001b[0m\u001b[0;34m\u001b[0m\u001b[0m\n\u001b[1;32m    499\u001b[0m               \u001b[0mnum_outputs\u001b[0m\u001b[0;34m=\u001b[0m\u001b[0mself\u001b[0m\u001b[0;34m.\u001b[0m\u001b[0m_num_outputs\u001b[0m\u001b[0;34m,\u001b[0m\u001b[0;34m\u001b[0m\u001b[0;34m\u001b[0m\u001b[0m\n",
            "\u001b[0;32m/usr/local/lib/python3.8/dist-packages/tensorflow/python/eager/execute.py\u001b[0m in \u001b[0;36mquick_execute\u001b[0;34m(op_name, num_outputs, inputs, attrs, ctx, name)\u001b[0m\n\u001b[1;32m     52\u001b[0m   \u001b[0;32mtry\u001b[0m\u001b[0;34m:\u001b[0m\u001b[0;34m\u001b[0m\u001b[0;34m\u001b[0m\u001b[0m\n\u001b[1;32m     53\u001b[0m     \u001b[0mctx\u001b[0m\u001b[0;34m.\u001b[0m\u001b[0mensure_initialized\u001b[0m\u001b[0;34m(\u001b[0m\u001b[0;34m)\u001b[0m\u001b[0;34m\u001b[0m\u001b[0;34m\u001b[0m\u001b[0m\n\u001b[0;32m---> 54\u001b[0;31m     tensors = pywrap_tfe.TFE_Py_Execute(ctx._handle, device_name, op_name,\n\u001b[0m\u001b[1;32m     55\u001b[0m                                         inputs, attrs, num_outputs)\n\u001b[1;32m     56\u001b[0m   \u001b[0;32mexcept\u001b[0m \u001b[0mcore\u001b[0m\u001b[0;34m.\u001b[0m\u001b[0m_NotOkStatusException\u001b[0m \u001b[0;32mas\u001b[0m \u001b[0me\u001b[0m\u001b[0;34m:\u001b[0m\u001b[0;34m\u001b[0m\u001b[0;34m\u001b[0m\u001b[0m\n",
            "\u001b[0;31mKeyboardInterrupt\u001b[0m: "
          ]
        }
      ],
      "source": [
        "r = model.fit(x_train , y_train, epochs = 5 ,\n",
        "              validation_data = (x_val , y_val))"
      ]
    },
    {
      "cell_type": "code",
      "execution_count": null,
      "id": "e5613799-28b5-4588-ba79-9ea74268e689",
      "metadata": {
        "id": "e5613799-28b5-4588-ba79-9ea74268e689"
      },
      "outputs": [],
      "source": []
    },
    {
      "cell_type": "code",
      "execution_count": null,
      "id": "45d7bef9-1f4c-4335-bc17-bf4b913879c5",
      "metadata": {
        "id": "45d7bef9-1f4c-4335-bc17-bf4b913879c5",
        "outputId": "f3998541-e584-4130-ff62-e186464569b2"
      },
      "outputs": [
        {
          "data": {
            "image/png": "[encoded data removed]",
            "text/plain": [
              "<Figure size 432x288 with 1 Axes>"
            ]
          },
          "metadata": {
            "needs_background": "light"
          },
          "output_type": "display_data"
        }
      ],
      "source": [
        "plt.plot(r.history['loss'] , label = 'train loss')\n",
        "plt.plot(r.history['val_loss'] , label= 'val loss')\n",
        "plt.legend();"
      ]
    },
    {
      "cell_type": "code",
      "execution_count": null,
      "id": "0bedfce4-58a0-451d-a6b8-a308429b0b86",
      "metadata": {
        "id": "0bedfce4-58a0-451d-a6b8-a308429b0b86",
        "outputId": "6d66f5d5-f178-4a92-e189-fd0a6c211f35"
      },
      "outputs": [
        {
          "name": "stdout",
          "output_type": "stream",
          "text": [
            "2116/2116 [==============================] - 53s 25ms/step\n"
          ]
        }
      ],
      "source": [
        "pred = model.predict(x_test)"
      ]
    },
    {
      "cell_type": "code",
      "execution_count": null,
      "id": "7adc3149-01df-49c4-bb63-9ba688433dc9",
      "metadata": {
        "id": "7adc3149-01df-49c4-bb63-9ba688433dc9",
        "outputId": "53cf1c37-e036-4cf5-dc4a-ca6df91a3f15"
      },
      "outputs": [
        {
          "data": {
            "text/plain": [
              "array([[9.999904e-01],\n",
              "       [6.074500e-05],\n",
              "       [9.999904e-01],\n",
              "       ...,\n",
              "       [9.999904e-01],\n",
              "       [6.074500e-05],\n",
              "       [9.999904e-01]], dtype=float32)"
            ]
          },
          "execution_count": 349,
          "metadata": {},
          "output_type": "execute_result"
        }
      ],
      "source": [
        "pred"
      ]
    },
    {
      "cell_type": "code",
      "execution_count": null,
      "id": "c247b4dd-3d8e-4352-b4f4-976e543ed706",
      "metadata": {
        "id": "c247b4dd-3d8e-4352-b4f4-976e543ed706"
      },
      "outputs": [],
      "source": [
        "bt = pd.DataFrame(pred , columns =['pred'] )"
      ]
    },
    {
      "cell_type": "code",
      "execution_count": null,
      "id": "957dcc0f-e763-4852-a658-48da71ecc764",
      "metadata": {
        "id": "957dcc0f-e763-4852-a658-48da71ecc764"
      },
      "outputs": [],
      "source": [
        "for i in range (len(bt)):\n",
        "            if (bt['pred'][i]<  0.5) :\n",
        "               bt['pred'][i] =0\n",
        "            else:\n",
        "                bt['pred'][i] =1\n",
        ""
      ]
    },
    {
      "cell_type": "code",
      "execution_count": null,
      "id": "5605f377-5b07-465f-8e05-58ceb630b09e",
      "metadata": {
        "id": "5605f377-5b07-465f-8e05-58ceb630b09e",
        "outputId": "6dcb1b11-1b87-455f-ec14-d641f167766c"
      },
      "outputs": [
        {
          "data": {
            "text/plain": [
              "2"
            ]
          },
          "execution_count": 352,
          "metadata": {},
          "output_type": "execute_result"
        }
      ],
      "source": [
        "len(bt.pred.unique())"
      ]
    },
    {
      "cell_type": "code",
      "execution_count": null,
      "id": "17ea5139-a8e2-4bb1-918e-893f71859e31",
      "metadata": {
        "id": "17ea5139-a8e2-4bb1-918e-893f71859e31",
        "outputId": "3815fedd-d0e5-4bfd-9932-4bae46c336e5"
      },
      "outputs": [
        {
          "data": {
            "text/html": [
              "<div>\n",
              "<style scoped>\n",
              "    .dataframe tbody tr th:only-of-type {\n",
              "        vertical-align: middle;\n",
              "    }\n",
              "\n",
              "    .dataframe tbody tr th {\n",
              "        vertical-align: top;\n",
              "    }\n",
              "\n",
              "    .dataframe thead th {\n",
              "        text-align: right;\n",
              "    }\n",
              "</style>\n",
              "<table border=\"1\" class=\"dataframe\">\n",
              "  <thead>\n",
              "    <tr style=\"text-align: right;\">\n",
              "      <th></th>\n",
              "      <th>pred</th>\n",
              "    </tr>\n",
              "  </thead>\n",
              "  <tbody>\n",
              "    <tr>\n",
              "      <th>count</th>\n",
              "      <td>67692.000000</td>\n",
              "    </tr>\n",
              "    <tr>\n",
              "      <th>mean</th>\n",
              "      <td>0.791098</td>\n",
              "    </tr>\n",
              "    <tr>\n",
              "      <th>std</th>\n",
              "      <td>0.406566</td>\n",
              "    </tr>\n",
              "    <tr>\n",
              "      <th>min</th>\n",
              "      <td>0.000000</td>\n",
              "    </tr>\n",
              "    <tr>\n",
              "      <th>25%</th>\n",
              "      <td>1.000000</td>\n",
              "    </tr>\n",
              "    <tr>\n",
              "      <th>50%</th>\n",
              "      <td>1.000000</td>\n",
              "    </tr>\n",
              "    <tr>\n",
              "      <th>75%</th>\n",
              "      <td>1.000000</td>\n",
              "    </tr>\n",
              "    <tr>\n",
              "      <th>max</th>\n",
              "      <td>1.000000</td>\n",
              "    </tr>\n",
              "  </tbody>\n",
              "</table>\n",
              "</div>"
            ],
            "text/plain": [
              "               pred\n",
              "count  67692.000000\n",
              "mean       0.791098\n",
              "std        0.406566\n",
              "min        0.000000\n",
              "25%        1.000000\n",
              "50%        1.000000\n",
              "75%        1.000000\n",
              "max        1.000000"
            ]
          },
          "execution_count": 353,
          "metadata": {},
          "output_type": "execute_result"
        }
      ],
      "source": [
        "bt.describe()"
      ]
    },
    {
      "cell_type": "code",
      "execution_count": null,
      "id": "ce7ff964-7a54-402c-8a5c-d66d94519139",
      "metadata": {
        "id": "ce7ff964-7a54-402c-8a5c-d66d94519139"
      },
      "outputs": [],
      "source": [
        "from sklearn.metrics import f1_score"
      ]
    },
    {
      "cell_type": "code",
      "execution_count": null,
      "id": "0789d332-aa24-4f71-9050-6b65066c5f1e",
      "metadata": {
        "id": "0789d332-aa24-4f71-9050-6b65066c5f1e",
        "outputId": "f271d2cc-6ea3-48e9-f15c-70bc242545c0"
      },
      "outputs": [
        {
          "data": {
            "text/plain": [
              "array([0.99992928, 0.99998133])"
            ]
          },
          "execution_count": 355,
          "metadata": {},
          "output_type": "execute_result"
        }
      ],
      "source": [
        "f1_score(y_test, pred, average=None)"
      ]
    },
    {
      "cell_type": "code",
      "execution_count": null,
      "id": "38e94b8c-0d7e-42ad-a5f5-37ea418367a6",
      "metadata": {
        "id": "38e94b8c-0d7e-42ad-a5f5-37ea418367a6"
      },
      "outputs": [],
      "source": [
        "from sklearn.metrics import confusion_matrix, ConfusionMatrixDisplay"
      ]
    },
    {
      "cell_type": "code",
      "execution_count": null,
      "id": "b9ff3494-c844-4d20-9362-cd00a66f8127",
      "metadata": {
        "id": "b9ff3494-c844-4d20-9362-cd00a66f8127"
      },
      "outputs": [],
      "source": [
        "cm = confusion_matrix(test_np, pred)"
      ]
    },
    {
      "cell_type": "code",
      "execution_count": null,
      "id": "74ad0fe3-f22f-4672-ac1a-504eb2eae75a",
      "metadata": {
        "id": "74ad0fe3-f22f-4672-ac1a-504eb2eae75a"
      },
      "outputs": [],
      "source": [
        "disp = ConfusionMatrixDisplay(confusion_matrix=cm)"
      ]
    },
    {
      "cell_type": "code",
      "execution_count": null,
      "id": "87c029ad-db98-4b4e-921d-0cdee1d10a3a",
      "metadata": {
        "id": "87c029ad-db98-4b4e-921d-0cdee1d10a3a",
        "outputId": "f708aba0-fbe8-4503-fe5c-cb61fc08becf"
      },
      "outputs": [
        {
          "data": {
            "text/plain": [
              "<sklearn.metrics._plot.confusion_matrix.ConfusionMatrixDisplay at 0x12b51560850>"
            ]
          },
          "execution_count": 359,
          "metadata": {},
          "output_type": "execute_result"
        },
        {
          "data": {
            "image/png": "[encoded data removed]",
            "text/plain": [
              "<Figure size 432x288 with 2 Axes>"
            ]
          },
          "metadata": {
            "needs_background": "light"
          },
          "output_type": "display_data"
        }
      ],
      "source": [
        "disp.plot()"
      ]
    },
    {
      "cell_type": "code",
      "execution_count": null,
      "id": "adb02cd2-c2f3-4d49-8fb1-46ccd4c90cec",
      "metadata": {
        "id": "adb02cd2-c2f3-4d49-8fb1-46ccd4c90cec"
      },
      "outputs": [],
      "source": [
        "fin_test = pd.read_csv('test_final.csv')"
      ]
    },
    {
      "cell_type": "code",
      "execution_count": null,
      "id": "595edcde-b912-4d9e-879f-010bed91ec16",
      "metadata": {
        "id": "595edcde-b912-4d9e-879f-010bed91ec16"
      },
      "outputs": [],
      "source": []
    },
    {
      "cell_type": "code",
      "execution_count": null,
      "id": "6f0c50a5-78e1-4c1c-802a-05c4e0922e70",
      "metadata": {
        "id": "6f0c50a5-78e1-4c1c-802a-05c4e0922e70"
      },
      "outputs": [],
      "source": [
        "sequences_pred = tokenizer.texts_to_sequences(fin_test['LOG'])"
      ]
    },
    {
      "cell_type": "code",
      "execution_count": null,
      "id": "68faf062-15d7-4e2c-a973-4dca468f7e26",
      "metadata": {
        "id": "68faf062-15d7-4e2c-a973-4dca468f7e26",
        "outputId": "c4d22ab3-b5b0-47ab-b659-d8161c6d4a2d"
      },
      "outputs": [
        {
          "data": {
            "text/plain": [
              "(595300, 120)"
            ]
          },
          "execution_count": 362,
          "metadata": {},
          "output_type": "execute_result"
        }
      ],
      "source": [
        "final_test_data = pad_sequences(sequences_pred ,maxlen= T)\n",
        "final_test_data.shape"
      ]
    },
    {
      "cell_type": "code",
      "execution_count": null,
      "id": "4da3d065-0ae1-4273-818e-d7570e59125c",
      "metadata": {
        "id": "4da3d065-0ae1-4273-818e-d7570e59125c"
      },
      "outputs": [],
      "source": [
        "\n",
        "final_test_data = tf.convert_to_tensor(final_test_data)"
      ]
    },
    {
      "cell_type": "code",
      "execution_count": null,
      "id": "90605147-d07f-4a87-b788-c9a4d6635083",
      "metadata": {
        "id": "90605147-d07f-4a87-b788-c9a4d6635083",
        "outputId": "d3efc384-f380-4128-fdbb-0ac1a4c5f2f6"
      },
      "outputs": [
        {
          "name": "stdout",
          "output_type": "stream",
          "text": [
            " 1575/18604 [=>............................] - ETA: 7:02"
          ]
        }
      ],
      "source": [
        "predict = model.predict(final_test_data)"
      ]
    },
    {
      "cell_type": "code",
      "execution_count": null,
      "id": "330bf0b3-78fa-443d-8292-4ca8e855c2f9",
      "metadata": {
        "id": "330bf0b3-78fa-443d-8292-4ca8e855c2f9"
      },
      "outputs": [],
      "source": [
        "len(predict)"
      ]
    },
    {
      "cell_type": "code",
      "execution_count": null,
      "id": "8cb11391-d82e-4b5c-97d2-4c149477064f",
      "metadata": {
        "id": "8cb11391-d82e-4b5c-97d2-4c149477064f"
      },
      "outputs": [],
      "source": [
        "bdibt = pd.DataFrame(predict , columns =['label'] )"
      ]
    },
    {
      "cell_type": "code",
      "execution_count": null,
      "id": "2e3d9841-646b-481d-b51d-69bbd06421f1",
      "metadata": {
        "id": "2e3d9841-646b-481d-b51d-69bbd06421f1"
      },
      "outputs": [],
      "source": []
    },
    {
      "cell_type": "code",
      "execution_count": null,
      "id": "d84e57a4-bcac-4a73-bedd-d82ce46331f4",
      "metadata": {
        "id": "d84e57a4-bcac-4a73-bedd-d82ce46331f4"
      },
      "outputs": [],
      "source": [
        "for i in range (len(bdibt)):\n",
        "            if (bdibt['label'][i]<  0.5) :\n",
        "               bdibt['label'][i] ='abnormal'\n",
        "\n",
        "            else:\n",
        "                bdibt['label'][i] ='normal'\n"
      ]
    },
    {
      "cell_type": "code",
      "execution_count": null,
      "id": "ccd0d0f2-53e1-403b-831f-b13928f31a89",
      "metadata": {
        "id": "ccd0d0f2-53e1-403b-831f-b13928f31a89"
      },
      "outputs": [],
      "source": [
        "bdibt"
      ]
    },
    {
      "cell_type": "code",
      "execution_count": null,
      "id": "d602e687-0944-41b1-b6c0-71395e361443",
      "metadata": {
        "id": "d602e687-0944-41b1-b6c0-71395e361443"
      },
      "outputs": [],
      "source": [
        "bdibt.to_csv('submission2.csv')"
      ]
    },
    {
      "cell_type": "code",
      "execution_count": null,
      "id": "2de08c69-8fa3-4697-bea0-93420d12ab3e",
      "metadata": {
        "id": "2de08c69-8fa3-4697-bea0-93420d12ab3e"
      },
      "outputs": [],
      "source": []
    },
    {
      "cell_type": "code",
      "execution_count": null,
      "id": "87c86055-399e-410c-8875-46da8f916eaf",
      "metadata": {
        "id": "87c86055-399e-410c-8875-46da8f916eaf"
      },
      "outputs": [],
      "source": []
    }
  ],
  "metadata": {
    "kernelspec": {
      "display_name": "Python 3 (ipykernel)",
      "language": "python",
      "name": "python3"
    },
    "language_info": {
      "codemirror_mode": {
        "name": "ipython",
        "version": 3
      },
      "file_extension": ".py",
      "mimetype": "text/x-python",
      "name": "python",
      "nbconvert_exporter": "python",
      "pygments_lexer": "ipython3",
      "version": "3.9.7"
    },
    "colab": {
      "provenance": []
    },
    "accelerator": "GPU",
    "gpuClass": "standard"
  },
  "nbformat": 4,
  "nbformat_minor": 5
}